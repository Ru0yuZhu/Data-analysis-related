{
 "cells": [
  {
   "cell_type": "code",
   "execution_count": 3,
   "metadata": {
    "collapsed": false
   },
   "outputs": [
    {
     "data": {
      "text/plain": [
       "['year,month,date_of_month,day_of_week,births',\n",
       " '1994,1,1,6,8096',\n",
       " '1994,1,2,7,7772',\n",
       " '1994,1,3,1,10142',\n",
       " '1994,1,4,2,11248',\n",
       " '1994,1,5,3,11053',\n",
       " '1994,1,6,4,11406',\n",
       " '1994,1,7,5,11251',\n",
       " '1994,1,8,6,8653',\n",
       " '1994,1,9,7,7910']"
      ]
     },
     "execution_count": 3,
     "metadata": {},
     "output_type": "execute_result"
    }
   ],
   "source": [
    "f = open('US_births_1994-2003_CDC_NCHS.csv','r')\n",
    "readfile = f.read()\n",
    "w=readfile.split('\\n')\n",
    "w[:10]"
   ]
  },
  {
   "cell_type": "code",
   "execution_count": 23,
   "metadata": {
    "collapsed": false
   },
   "outputs": [],
   "source": [
    "def read_csv(filename):\n",
    "    a = open(filename,'r')\n",
    "    b = a.read()\n",
    "    c = b.split('\\n')\n",
    "    string_list = c[1:]\n",
    "    final_list=[]\n",
    "    \n",
    "    for item in string_list:\n",
    "        string_fields = item.split(',')\n",
    "        int_fields=[]\n",
    "        for x in string_fields:\n",
    "            int_fields.append(int(x))\n",
    "        final_list.append(int_fields)\n",
    "    return final_list"
   ]
  },
  {
   "cell_type": "code",
   "execution_count": 24,
   "metadata": {
    "collapsed": false
   },
   "outputs": [],
   "source": [
    "cdc_list = read_csv('US_births_1994-2003_CDC_NCHS.csv')"
   ]
  },
  {
   "cell_type": "code",
   "execution_count": 25,
   "metadata": {
    "collapsed": false
   },
   "outputs": [
    {
     "data": {
      "text/plain": [
       "[[1994, 1, 1, 6, 8096],\n",
       " [1994, 1, 2, 7, 7772],\n",
       " [1994, 1, 3, 1, 10142],\n",
       " [1994, 1, 4, 2, 11248],\n",
       " [1994, 1, 5, 3, 11053],\n",
       " [1994, 1, 6, 4, 11406],\n",
       " [1994, 1, 7, 5, 11251],\n",
       " [1994, 1, 8, 6, 8653],\n",
       " [1994, 1, 9, 7, 7910],\n",
       " [1994, 1, 10, 1, 10498]]"
      ]
     },
     "execution_count": 25,
     "metadata": {},
     "output_type": "execute_result"
    }
   ],
   "source": [
    "cdc_list[:10]"
   ]
  },
  {
   "cell_type": "code",
   "execution_count": 30,
   "metadata": {
    "collapsed": false
   },
   "outputs": [],
   "source": [
    "from collections import defaultdict\n",
    "def month_births(n_list):\n",
    "    birth_per_month=defaultdict(int)\n",
    "    for items in n_list:\n",
    "        birth_per_month[items[1]] += items[4]\n",
    "    return birth_per_month\n",
    "        "
   ]
  },
  {
   "cell_type": "code",
   "execution_count": 32,
   "metadata": {
    "collapsed": false
   },
   "outputs": [
    {
     "data": {
      "text/plain": [
       "defaultdict(int,\n",
       "            {1: 3232517,\n",
       "             2: 3018140,\n",
       "             3: 3322069,\n",
       "             4: 3185314,\n",
       "             5: 3350907,\n",
       "             6: 3296530,\n",
       "             7: 3498783,\n",
       "             8: 3525858,\n",
       "             9: 3439698,\n",
       "             10: 3378814,\n",
       "             11: 3171647,\n",
       "             12: 3301860})"
      ]
     },
     "execution_count": 32,
     "metadata": {},
     "output_type": "execute_result"
    }
   ],
   "source": [
    "cdc_month_births = month_births(cdc_list)\n",
    "cdc_month_births"
   ]
  },
  {
   "cell_type": "code",
   "execution_count": 35,
   "metadata": {
    "collapsed": true
   },
   "outputs": [],
   "source": [
    "def dow_births(ne_list):\n",
    "    birth_weekday=defaultdict(int)\n",
    "    for item in ne_list:\n",
    "        birth_weekday[item[3]] +=item[4]\n",
    "    return birth_weekday\n",
    "    "
   ]
  },
  {
   "cell_type": "code",
   "execution_count": 36,
   "metadata": {
    "collapsed": false
   },
   "outputs": [
    {
     "data": {
      "text/plain": [
       "defaultdict(int,\n",
       "            {1: 5789166,\n",
       "             2: 6446196,\n",
       "             3: 6322855,\n",
       "             4: 6288429,\n",
       "             5: 6233657,\n",
       "             6: 4562111,\n",
       "             7: 4079723})"
      ]
     },
     "execution_count": 36,
     "metadata": {},
     "output_type": "execute_result"
    }
   ],
   "source": [
    "cdc_day_births = dow_births(cdc_list)\n",
    "cdc_day_births"
   ]
  },
  {
   "cell_type": "code",
   "execution_count": 48,
   "metadata": {
    "collapsed": true
   },
   "outputs": [],
   "source": [
    "def calc_counts(data, column):\n",
    "    any_dic = defaultdict(int)\n",
    "    for item in data:\n",
    "        any_dic[item[column]] += item[4]\n",
    "    return any_dic\n"
   ]
  },
  {
   "cell_type": "code",
   "execution_count": 49,
   "metadata": {
    "collapsed": false
   },
   "outputs": [],
   "source": [
    "cdc_year_births = calc_counts(cdc_list, 0)"
   ]
  },
  {
   "cell_type": "code",
   "execution_count": 50,
   "metadata": {
    "collapsed": false
   },
   "outputs": [
    {
     "data": {
      "text/plain": [
       "defaultdict(int,\n",
       "            {1994: 3952767,\n",
       "             1995: 3899589,\n",
       "             1996: 3891494,\n",
       "             1997: 3880894,\n",
       "             1998: 3941553,\n",
       "             1999: 3959417,\n",
       "             2000: 4058814,\n",
       "             2001: 4025933,\n",
       "             2002: 4021726,\n",
       "             2003: 4089950})"
      ]
     },
     "execution_count": 50,
     "metadata": {},
     "output_type": "execute_result"
    }
   ],
   "source": [
    "cdc_year_births"
   ]
  },
  {
   "cell_type": "code",
   "execution_count": 52,
   "metadata": {
    "collapsed": false
   },
   "outputs": [
    {
     "data": {
      "text/plain": [
       "defaultdict(int,\n",
       "            {1: 3232517,\n",
       "             2: 3018140,\n",
       "             3: 3322069,\n",
       "             4: 3185314,\n",
       "             5: 3350907,\n",
       "             6: 3296530,\n",
       "             7: 3498783,\n",
       "             8: 3525858,\n",
       "             9: 3439698,\n",
       "             10: 3378814,\n",
       "             11: 3171647,\n",
       "             12: 3301860})"
      ]
     },
     "execution_count": 52,
     "metadata": {},
     "output_type": "execute_result"
    }
   ],
   "source": [
    "cdc_month_births =calc_counts(cdc_list,1) \n",
    "cdc_month_births"
   ]
  },
  {
   "cell_type": "code",
   "execution_count": 53,
   "metadata": {
    "collapsed": false
   },
   "outputs": [
    {
     "data": {
      "text/plain": [
       "defaultdict(int,\n",
       "            {1: 1276557,\n",
       "             2: 1288739,\n",
       "             3: 1304499,\n",
       "             4: 1288154,\n",
       "             5: 1299953,\n",
       "             6: 1304474,\n",
       "             7: 1310459,\n",
       "             8: 1312297,\n",
       "             9: 1303292,\n",
       "             10: 1320764,\n",
       "             11: 1314361,\n",
       "             12: 1318437,\n",
       "             13: 1277684,\n",
       "             14: 1320153,\n",
       "             15: 1319171,\n",
       "             16: 1315192,\n",
       "             17: 1324953,\n",
       "             18: 1326855,\n",
       "             19: 1318727,\n",
       "             20: 1324821,\n",
       "             21: 1322897,\n",
       "             22: 1317381,\n",
       "             23: 1293290,\n",
       "             24: 1288083,\n",
       "             25: 1272116,\n",
       "             26: 1284796,\n",
       "             27: 1294395,\n",
       "             28: 1307685,\n",
       "             29: 1223161,\n",
       "             30: 1202095,\n",
       "             31: 746696})"
      ]
     },
     "execution_count": 53,
     "metadata": {},
     "output_type": "execute_result"
    }
   ],
   "source": [
    "cdc_dom_births = calc_counts(cdc_list,2)\n",
    "cdc_dom_births"
   ]
  },
  {
   "cell_type": "code",
   "execution_count": 54,
   "metadata": {
    "collapsed": false
   },
   "outputs": [
    {
     "data": {
      "text/plain": [
       "defaultdict(int,\n",
       "            {1: 5789166,\n",
       "             2: 6446196,\n",
       "             3: 6322855,\n",
       "             4: 6288429,\n",
       "             5: 6233657,\n",
       "             6: 4562111,\n",
       "             7: 4079723})"
      ]
     },
     "execution_count": 54,
     "metadata": {},
     "output_type": "execute_result"
    }
   ],
   "source": [
    "cdc_dow_births = calc_counts(cdc_list,3)\n",
    "cdc_dow_births"
   ]
  },
  {
   "cell_type": "code",
   "execution_count": 79,
   "metadata": {
    "collapsed": true
   },
   "outputs": [],
   "source": [
    "def cal_dic(dic_name):\n",
    "    max_dic = max(dic_name.values())\n",
    "    min_dic = min(dic_name.values())\n",
    "    return max_dic,min_dic"
   ]
  },
  {
   "cell_type": "code",
   "execution_count": 80,
   "metadata": {
    "collapsed": false
   },
   "outputs": [
    {
     "data": {
      "text/plain": [
       "(6446196, 4079723)"
      ]
     },
     "execution_count": 80,
     "metadata": {},
     "output_type": "execute_result"
    }
   ],
   "source": [
    "cdc_dow = cal_dic(cdc_dow_births)\n",
    "cdc_dow"
   ]
  },
  {
   "cell_type": "code",
   "execution_count": 83,
   "metadata": {
    "collapsed": false
   },
   "outputs": [
    {
     "name": "stdout",
     "output_type": "stream",
     "text": [
      "{2000: 469794, 2001: 453928, 2002: 445770, 2003: 447445, 1994: 474732, 1995: 459580, 1996: 456261, 1997: 450840, 1998: 453776, 1999: 449985}\n"
     ]
    }
   ],
   "source": [
    "def calc_counts2(data,column,column_consecutive_value):\n",
    "    births = {} \n",
    "    for element in data:\n",
    "        if element[0] in births and element[column] == column_consecutive_value:\n",
    "            births[element[0]] += element[4] \n",
    "        elif element[0] not in births and element[column] == column_consecutive_value:\n",
    "            births[element[0]] = element[4]\n",
    "    cdc_year_births = births \n",
    "    return(cdc_year_births) \n",
    "print(calc_counts2(cdc_list,3,6))"
   ]
  },
  {
   "cell_type": "code",
   "execution_count": null,
   "metadata": {
    "collapsed": true
   },
   "outputs": [],
   "source": []
  }
 ],
 "metadata": {
  "anaconda-cloud": {},
  "kernelspec": {
   "display_name": "Python 3",
   "language": "python",
   "name": "python3"
  },
  "language_info": {
   "codemirror_mode": {
    "name": "ipython",
    "version": 3
   },
   "file_extension": ".py",
   "mimetype": "text/x-python",
   "name": "python",
   "nbconvert_exporter": "python",
   "pygments_lexer": "ipython3",
   "version": "3.4.3"
  }
 },
 "nbformat": 4,
 "nbformat_minor": 1
}
